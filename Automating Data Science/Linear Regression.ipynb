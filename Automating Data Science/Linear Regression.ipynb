{
 "cells": [
  {
   "cell_type": "code",
   "execution_count": 3,
   "id": "4673d42b",
   "metadata": {},
   "outputs": [
    {
     "name": "stdout",
     "output_type": "stream",
     "text": [
      "Please put the link of your dataset here: https://raw.githubusercontent.com/Crazy-Coding-Physicist/Turbine-Measurements/main/Turbine%20Project%20Data%20-%20MicroAmperes%20Measurements.csv\n",
      "Index(['Distance (cm)', 'Motor Diameter (cm)', 'Angle (Degrees)', 'Value'], dtype='object')\n",
      "Please choose the end result column Index(['Distance (cm)', 'Motor Diameter (cm)', 'Angle (Degrees)', 'Value'], dtype='object'): Value\n",
      "335.520626209825\n",
      "0.046759064982382074\n",
      "0.32042517397787135\n",
      "0.04675736236872816\n",
      "Your model is 99.95324263763128 % accurate\n"
     ]
    }
   ],
   "source": [
    "from sklearn.ensemble import RandomForestRegressor\n",
    "from sklearn.tree import DecisionTreeRegressor\n",
    "from sklearn.linear_model import LinearRegression\n",
    "from sklearn.metrics import mean_squared_error\n",
    "from sklearn.model_selection import train_test_split, cross_val_score\n",
    "import pandas as pd\n",
    "from xgboost import XGBRegressor\n",
    "import numpy as np\n",
    "\n",
    "url = input('Please put the link of your dataset here: ')\n",
    "df = pd.read_csv(url)\n",
    "print(df.columns)\n",
    "columninput = input(f'Please choose the end result column {df.columns}: ')\n",
    "y = df[columninput]\n",
    "del df[columninput]\n",
    "X = df\n",
    "X_train, X_test, y_train, y_test = train_test_split(X, y)\n",
    "\n",
    "model = LinearRegression()\n",
    "model.fit(X, y)\n",
    "y_pred = model.predict(X_test)\n",
    "rmspe = np.sqrt(np.mean(np.square(((y_test - y_pred) / y_test)), axis=0))\n",
    "print(rmspe)\n",
    "\n",
    "model2 = DecisionTreeRegressor()\n",
    "model2.fit(X, y)\n",
    "y_pred2 = model2.predict(X_test)\n",
    "rmspe2 = np.sqrt(np.mean(np.square(((y_test - y_pred2) / y_test)), axis=0))\n",
    "print(rmspe2)\n",
    "\n",
    "model3 = RandomForestRegressor()\n",
    "model3.fit(X, y)\n",
    "y_pred3 = model3.predict(X_test)\n",
    "rmspe3 = np.sqrt(np.mean(np.square(((y_test - y_pred3) / y_test)), axis=0))\n",
    "print(rmspe3)\n",
    "\n",
    "model4 = XGBRegressor()\n",
    "model4.fit(X, y)\n",
    "y_pred4 = model4.predict(X_test)\n",
    "rmspe4 = np.sqrt(np.mean(np.square(((y_test - y_pred4) / y_test)), axis=0))\n",
    "print(rmspe4)\n",
    "\n",
    "rmspe = 100 - rmspe\n",
    "rmspe2 = 100 - rmspe2\n",
    "rmspe3 = 100 - rmspe3\n",
    "rmspe4 = 100 - rmspe4\n",
    "\n",
    "print('Your model is', max(rmspe, rmspe2, rmspe3, rmspe4),'% accurate')"
   ]
  },
  {
   "cell_type": "code",
   "execution_count": null,
   "id": "cf75b7c5",
   "metadata": {},
   "outputs": [],
   "source": []
  }
 ],
 "metadata": {
  "kernelspec": {
   "display_name": "Python 3",
   "language": "python",
   "name": "python3"
  },
  "language_info": {
   "codemirror_mode": {
    "name": "ipython",
    "version": 3
   },
   "file_extension": ".py",
   "mimetype": "text/x-python",
   "name": "python",
   "nbconvert_exporter": "python",
   "pygments_lexer": "ipython3",
   "version": "3.9.2"
  }
 },
 "nbformat": 4,
 "nbformat_minor": 5
}
